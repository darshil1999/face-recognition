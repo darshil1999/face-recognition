{
 "cells": [
  {
   "cell_type": "code",
   "execution_count": 1,
   "id": "48c69f02",
   "metadata": {},
   "outputs": [],
   "source": [
    "import numpy as np\n",
    "import cv2\n"
   ]
  },
  {
   "cell_type": "code",
   "execution_count": 2,
   "id": "1c2a0562",
   "metadata": {},
   "outputs": [],
   "source": [
    "img = cv2.imread('./images/car_001.jpg')"
   ]
  },
  {
   "cell_type": "code",
   "execution_count": 3,
   "id": "5bab4449",
   "metadata": {},
   "outputs": [
    {
     "data": {
      "text/plain": [
       "(423, 678, 3)"
      ]
     },
     "execution_count": 3,
     "metadata": {},
     "output_type": "execute_result"
    }
   ],
   "source": [
    "img.shape"
   ]
  },
  {
   "cell_type": "code",
   "execution_count": 4,
   "id": "6e9bfc9a",
   "metadata": {},
   "outputs": [],
   "source": [
    "def display(winame,image):\n",
    "    cv2.imshow(winame, image)\n",
    "    cv2.waitKey(0)\n",
    "    cv2.destroyAllWindows()"
   ]
  },
  {
   "cell_type": "code",
   "execution_count": 5,
   "id": "58112039",
   "metadata": {},
   "outputs": [],
   "source": [
    "display('car',img)"
   ]
  },
  {
   "cell_type": "code",
   "execution_count": 6,
   "id": "f48d8978",
   "metadata": {},
   "outputs": [
    {
     "data": {
      "text/plain": [
       "numpy.ndarray"
      ]
     },
     "execution_count": 6,
     "metadata": {},
     "output_type": "execute_result"
    }
   ],
   "source": [
    "type(img)"
   ]
  },
  {
   "cell_type": "code",
   "execution_count": 7,
   "id": "d085439a",
   "metadata": {},
   "outputs": [],
   "source": [
    "# acess first 300 rows(hieght) and 300 columns(width) of the image (numpy array)\n",
    "\n",
    "roi = img[0:300,0:300]"
   ]
  },
  {
   "cell_type": "code",
   "execution_count": 8,
   "id": "136dadeb",
   "metadata": {},
   "outputs": [],
   "source": [
    "display('acess', roi)"
   ]
  },
  {
   "cell_type": "markdown",
   "id": "3b96c62e",
   "metadata": {},
   "source": [
    "# Manipulate Pixels"
   ]
  },
  {
   "cell_type": "code",
   "execution_count": 9,
   "id": "2475a45c",
   "metadata": {},
   "outputs": [],
   "source": [
    "green_pixel = (0,255,0)\n",
    "img[0:300,0:300] = green_pixel"
   ]
  },
  {
   "cell_type": "code",
   "execution_count": 10,
   "id": "cd4fc844",
   "metadata": {},
   "outputs": [],
   "source": [
    "display('manipulate', img)"
   ]
  },
  {
   "cell_type": "code",
   "execution_count": null,
   "id": "1b55ce9a",
   "metadata": {},
   "outputs": [],
   "source": []
  }
 ],
 "metadata": {
  "kernelspec": {
   "display_name": "Python 3 (ipykernel)",
   "language": "python",
   "name": "python3"
  },
  "language_info": {
   "codemirror_mode": {
    "name": "ipython",
    "version": 3
   },
   "file_extension": ".py",
   "mimetype": "text/x-python",
   "name": "python",
   "nbconvert_exporter": "python",
   "pygments_lexer": "ipython3",
   "version": "3.9.12"
  }
 },
 "nbformat": 4,
 "nbformat_minor": 5
}
