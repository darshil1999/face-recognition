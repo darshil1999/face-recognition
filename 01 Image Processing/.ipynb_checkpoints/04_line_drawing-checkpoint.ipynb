{
 "cells": [
  {
   "cell_type": "code",
   "execution_count": 11,
   "id": "fd6fc763",
   "metadata": {},
   "outputs": [],
   "source": [
    "import numpy as np\n",
    "import cv2"
   ]
  },
  {
   "cell_type": "code",
   "execution_count": 12,
   "id": "7bdfabe2",
   "metadata": {},
   "outputs": [],
   "source": [
    "canvas = np.zeros((300,300,3),dtype='uint8')"
   ]
  },
  {
   "cell_type": "code",
   "execution_count": 13,
   "id": "cfd93de6",
   "metadata": {},
   "outputs": [],
   "source": [
    "cv2.imshow('canvas', canvas)\n",
    "cv2.waitKey(0)\n",
    "cv2.destroyAllWindows()"
   ]
  },
  {
   "cell_type": "markdown",
   "id": "6220c4a0",
   "metadata": {},
   "source": [
    "# line\n"
   ]
  },
  {
   "cell_type": "code",
   "execution_count": 7,
   "id": "c9b2829a",
   "metadata": {},
   "outputs": [],
   "source": [
    "\n",
    "pt1 = (0,0)\n",
    "pt2 = (300,300)\n",
    "color = (0,255,0)\n",
    "cv2.line(canvas, pt1, pt2, color)\n",
    "cv2.imshow('canvas', canvas)\n",
    "cv2.waitKey(0)\n",
    "cv2.destroyAllWindows()"
   ]
  },
  {
   "cell_type": "code",
   "execution_count": 9,
   "id": "0246c387",
   "metadata": {},
   "outputs": [],
   "source": [
    "pt1 = (0,300)\n",
    "pt2 = (300,0)\n",
    "color = (0,0,255)\n",
    "\n",
    "cv2.line(canvas, pt1, pt2, color,5)\n",
    "cv2.imshow('canvas', canvas)\n",
    "cv2.waitKey(0)\n",
    "cv2.destroyAllWindows()"
   ]
  },
  {
   "cell_type": "code",
   "execution_count": 16,
   "id": "098313c1",
   "metadata": {},
   "outputs": [],
   "source": [
    "# pt1 = (0,0)\n",
    "# pt2 = (0,300)\n",
    "# pt3 = (300,0)\n",
    "# pt4 = (300,300)\n",
    "\n",
    "# cv2.line(canvas,pt1,pt2,(0,0,255),5)\n",
    "# cv2.line(canvas,pt1,pt3,(0,0,255),5)\n",
    "# cv2.line(canvas,pt2,pt4,(0,0,255),5)\n",
    "# cv2.line(canvas,pt3,pt4,(0,0,255),5)\n",
    "\n",
    "# cv2.imshow('canvas', canvas)\n",
    "# cv2.waitKey(0)\n",
    "# cv2.destroyAllWindows()"
   ]
  },
  {
   "cell_type": "markdown",
   "id": "e4357689",
   "metadata": {},
   "source": [
    "\n",
    "# Rectangle"
   ]
  },
  {
   "cell_type": "code",
   "execution_count": 20,
   "id": "a489036d",
   "metadata": {},
   "outputs": [],
   "source": [
    "canva = np.zeros((600,600,3),dtype='uint8')"
   ]
  },
  {
   "cell_type": "code",
   "execution_count": 25,
   "id": "ea225250",
   "metadata": {},
   "outputs": [],
   "source": [
    "pt1 = (50,50)\n",
    "pt2 = (100,100)\n",
    "\n",
    "cv2.rectangle(canva, pt1, pt2, (255,255,255),5)\n",
    "cv2.rectangle(canva, (100,100), (150,150), (255,0,0),2) \n",
    "cv2.rectangle(canva, (150,150), (200,200), (0,0,255),-1) # -1 for filling with color\n",
    "\n",
    "cv2.imshow('canva',canva)\n",
    "cv2.waitKey(0)\n",
    "cv2.destroyAllWindows()"
   ]
  },
  {
   "cell_type": "code",
   "execution_count": null,
   "id": "cdfceeed",
   "metadata": {},
   "outputs": [],
   "source": []
  }
 ],
 "metadata": {
  "kernelspec": {
   "display_name": "Python 3 (ipykernel)",
   "language": "python",
   "name": "python3"
  },
  "language_info": {
   "codemirror_mode": {
    "name": "ipython",
    "version": 3
   },
   "file_extension": ".py",
   "mimetype": "text/x-python",
   "name": "python",
   "nbconvert_exporter": "python",
   "pygments_lexer": "ipython3",
   "version": "3.9.12"
  }
 },
 "nbformat": 4,
 "nbformat_minor": 5
}
