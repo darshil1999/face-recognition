{
 "cells": [
  {
   "cell_type": "code",
   "execution_count": 13,
   "id": "2d969ccc",
   "metadata": {},
   "outputs": [],
   "source": [
    "import numpy as np\n",
    "import cv2"
   ]
  },
  {
   "cell_type": "code",
   "execution_count": 14,
   "id": "2847f938",
   "metadata": {},
   "outputs": [],
   "source": [
    "img = cv2.imread('./images/3_cars.jpg')"
   ]
  },
  {
   "cell_type": "code",
   "execution_count": 15,
   "id": "ba9dbe4f",
   "metadata": {},
   "outputs": [],
   "source": [
    "cv2.imshow('Original image', img)\n",
    "cv2.waitKey(0)\n",
    "cv2.destroyAllWindows()"
   ]
  },
  {
   "cell_type": "code",
   "execution_count": 16,
   "id": "d18c2d8c",
   "metadata": {},
   "outputs": [
    {
     "data": {
      "text/plain": [
       "(795, 1200, 3)"
      ]
     },
     "execution_count": 16,
     "metadata": {},
     "output_type": "execute_result"
    }
   ],
   "source": [
    "img.shape"
   ]
  },
  {
   "cell_type": "code",
   "execution_count": 17,
   "id": "8f8afa4f",
   "metadata": {},
   "outputs": [],
   "source": [
    "b,g,r = cv2.split(img)"
   ]
  },
  {
   "cell_type": "code",
   "execution_count": 18,
   "id": "90668c99",
   "metadata": {},
   "outputs": [
    {
     "data": {
      "text/plain": [
       "array([[43, 33, 36, ..., 19, 27, 39],\n",
       "       [28, 12, 11, ...,  2,  7, 20],\n",
       "       [28, 15, 16, ...,  3, 12, 25],\n",
       "       ...,\n",
       "       [60, 49, 48, ..., 27, 33, 43],\n",
       "       [58, 48, 47, ..., 27, 33, 43],\n",
       "       [75, 64, 63, ..., 44, 50, 60]], dtype=uint8)"
      ]
     },
     "execution_count": 18,
     "metadata": {},
     "output_type": "execute_result"
    }
   ],
   "source": [
    "b"
   ]
  },
  {
   "cell_type": "code",
   "execution_count": 19,
   "id": "2024a6d2",
   "metadata": {},
   "outputs": [
    {
     "data": {
      "text/plain": [
       "((795, 1200), (795, 1200), (795, 1200))"
      ]
     },
     "execution_count": 19,
     "metadata": {},
     "output_type": "execute_result"
    }
   ],
   "source": [
    "b.shape, g.shape, r.shape"
   ]
  },
  {
   "cell_type": "code",
   "execution_count": 20,
   "id": "c159f971",
   "metadata": {},
   "outputs": [],
   "source": [
    "cv2.imshow('blue image', b)\n",
    "cv2.imshow('green image', g)\n",
    "cv2.imshow('red image', r)\n",
    "cv2.imshow('original imgae', img)\n",
    "cv2.waitKey(0)\n",
    "cv2.destroyAllWindows()"
   ]
  },
  {
   "cell_type": "markdown",
   "id": "cc759dd8",
   "metadata": {},
   "source": [
    "# Convert Color"
   ]
  },
  {
   "cell_type": "code",
   "execution_count": 21,
   "id": "770891cd",
   "metadata": {},
   "outputs": [],
   "source": [
    "img1 = cv2.imread('./images/beach.jpg')"
   ]
  },
  {
   "cell_type": "code",
   "execution_count": 22,
   "id": "4236d86f",
   "metadata": {},
   "outputs": [],
   "source": [
    "cv2.imshow('beach image', img1)\n",
    "cv2.waitKey(0)\n",
    "cv2.destroyAllWindows()"
   ]
  },
  {
   "cell_type": "code",
   "execution_count": 28,
   "id": "44f922cd",
   "metadata": {},
   "outputs": [],
   "source": [
    "# bgr to grey\n",
    "grey = cv2.cvtColor(img1, cv2.COLOR_BGR2GRAY)\n",
    "\n",
    "# bgr to rgb\n",
    "img_rgb = cv2.cvtColor(img1, cv2.COLOR_BGR2RGB)\n",
    "\n",
    "# bgr to HSV\n",
    "img_hsv = cv2.cvtColor(img1, cv2.COLOR_BGR2HLS)\n",
    "\n",
    "#  bgr to LAB\n",
    "img_lab = cv2.cvtColor(img1, cv2.COLOR_BGR2LAB)\n",
    "\n",
    "cv2.imshow('original image', img1)\n",
    "\n",
    "# cv2.imshow('grey image', grey)\n",
    "# cv2.imshow('rgb image', img_rgb)\n",
    "# cv2.imshow('hsv image', img_hsv)\n",
    "cv2.imshow('hsv image', img_lab)\n",
    "cv2.waitKey(0)\n",
    "cv2.destroyAllWindows()"
   ]
  },
  {
   "cell_type": "code",
   "execution_count": null,
   "id": "39b0cd53",
   "metadata": {},
   "outputs": [],
   "source": []
  }
 ],
 "metadata": {
  "kernelspec": {
   "display_name": "Python 3 (ipykernel)",
   "language": "python",
   "name": "python3"
  },
  "language_info": {
   "codemirror_mode": {
    "name": "ipython",
    "version": 3
   },
   "file_extension": ".py",
   "mimetype": "text/x-python",
   "name": "python",
   "nbconvert_exporter": "python",
   "pygments_lexer": "ipython3",
   "version": "3.9.12"
  }
 },
 "nbformat": 4,
 "nbformat_minor": 5
}
