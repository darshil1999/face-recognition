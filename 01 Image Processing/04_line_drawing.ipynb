{
 "cells": [
  {
   "cell_type": "code",
   "execution_count": 1,
   "id": "fd6fc763",
   "metadata": {},
   "outputs": [],
   "source": [
    "import numpy as np\n",
    "import cv2"
   ]
  },
  {
   "cell_type": "code",
   "execution_count": 2,
   "id": "7bdfabe2",
   "metadata": {},
   "outputs": [],
   "source": [
    "canvas = np.zeros((300,300,3),dtype='uint8')"
   ]
  },
  {
   "cell_type": "code",
   "execution_count": 3,
   "id": "cfd93de6",
   "metadata": {},
   "outputs": [],
   "source": [
    "cv2.imshow('canvas', canvas)\n",
    "cv2.waitKey(0)\n",
    "cv2.destroyAllWindows()"
   ]
  },
  {
   "cell_type": "markdown",
   "id": "6220c4a0",
   "metadata": {},
   "source": [
    "# line\n"
   ]
  },
  {
   "cell_type": "code",
   "execution_count": 4,
   "id": "c9b2829a",
   "metadata": {},
   "outputs": [],
   "source": [
    "\n",
    "pt1 = (0,0)\n",
    "pt2 = (300,300)\n",
    "color = (0,255,0)\n",
    "cv2.line(canvas, pt1, pt2, color)\n",
    "cv2.imshow('canvas', canvas)\n",
    "cv2.waitKey(0)\n",
    "cv2.destroyAllWindows()"
   ]
  },
  {
   "cell_type": "code",
   "execution_count": 5,
   "id": "0246c387",
   "metadata": {},
   "outputs": [],
   "source": [
    "pt1 = (0,300)\n",
    "pt2 = (300,0)\n",
    "color = (0,0,255)\n",
    "\n",
    "cv2.line(canvas, pt1, pt2, color,5)\n",
    "cv2.imshow('canvas', canvas)\n",
    "cv2.waitKey(0)\n",
    "cv2.destroyAllWindows()"
   ]
  },
  {
   "cell_type": "code",
   "execution_count": 6,
   "id": "098313c1",
   "metadata": {},
   "outputs": [],
   "source": [
    "# pt1 = (0,0)\n",
    "# pt2 = (0,300)\n",
    "# pt3 = (300,0)\n",
    "# pt4 = (300,300)\n",
    "\n",
    "# cv2.line(canvas,pt1,pt2,(0,0,255),5)\n",
    "# cv2.line(canvas,pt1,pt3,(0,0,255),5)\n",
    "# cv2.line(canvas,pt2,pt4,(0,0,255),5)\n",
    "# cv2.line(canvas,pt3,pt4,(0,0,255),5)\n",
    "\n",
    "# cv2.imshow('canvas', canvas)\n",
    "# cv2.waitKey(0)\n",
    "# cv2.destroyAllWindows()"
   ]
  },
  {
   "cell_type": "markdown",
   "id": "e4357689",
   "metadata": {},
   "source": [
    "\n",
    "# Rectangle"
   ]
  },
  {
   "cell_type": "code",
   "execution_count": 7,
   "id": "a489036d",
   "metadata": {},
   "outputs": [],
   "source": [
    "canva = np.zeros((600,600,3),dtype='uint8')"
   ]
  },
  {
   "cell_type": "code",
   "execution_count": 8,
   "id": "ea225250",
   "metadata": {},
   "outputs": [],
   "source": [
    "pt1 = (50,50)\n",
    "pt2 = (100,100)\n",
    "\n",
    "cv2.rectangle(canva, pt1, pt2, (255,255,255),5)\n",
    "cv2.rectangle(canva, (100,100), (150,150), (255,0,0),2) \n",
    "cv2.rectangle(canva, (150,150), (200,200), (0,0,255),-1) # -1 for filling with color\n",
    "\n",
    "cv2.imshow('canva',canva)\n",
    "cv2.waitKey(0)\n",
    "cv2.destroyAllWindows()"
   ]
  },
  {
   "cell_type": "markdown",
   "id": "b046fa9f",
   "metadata": {},
   "source": [
    "# Polygon"
   ]
  },
  {
   "cell_type": "code",
   "execution_count": 9,
   "id": "32c9c053",
   "metadata": {},
   "outputs": [],
   "source": [
    "canvas = 255*np.ones((600,600,3),dtype='uint8') # 255* is for white color\n",
    "\n",
    "cv2.imshow('canvas',canvas)\n",
    "cv2.waitKey(0)\n",
    "cv2.destroyAllWindows()"
   ]
  },
  {
   "cell_type": "code",
   "execution_count": 10,
   "id": "6e500390",
   "metadata": {},
   "outputs": [],
   "source": [
    "pts = np.array([\n",
    "    [200,200],\n",
    "    [250,300],\n",
    "    [350,300],\n",
    "    [400,200],\n",
    "    [350,100],\n",
    "    [250,100],\n",
    "])\n",
    "\n",
    "pts = pts.reshape((-1,1,2))\n",
    "\n",
    "cv2.polylines(canvas,[pts],True,(255,0,0),2)\n",
    "\n",
    "cv2.imshow('canvas', canvas)\n",
    "cv2.waitKey(0)\n",
    "cv2.destroyAllWindows()"
   ]
  },
  {
   "cell_type": "code",
   "execution_count": null,
   "id": "e8edb9ea",
   "metadata": {},
   "outputs": [],
   "source": []
  },
  {
   "cell_type": "code",
   "execution_count": null,
   "id": "f3ea3529",
   "metadata": {},
   "outputs": [],
   "source": []
  },
  {
   "cell_type": "code",
   "execution_count": null,
   "id": "6a4af082",
   "metadata": {},
   "outputs": [],
   "source": []
  }
 ],
 "metadata": {
  "kernelspec": {
   "display_name": "frs",
   "language": "python",
   "name": "frs"
  },
  "language_info": {
   "codemirror_mode": {
    "name": "ipython",
    "version": 3
   },
   "file_extension": ".py",
   "mimetype": "text/x-python",
   "name": "python",
   "nbconvert_exporter": "python",
   "pygments_lexer": "ipython3",
   "version": "3.11.2"
  }
 },
 "nbformat": 4,
 "nbformat_minor": 5
}
