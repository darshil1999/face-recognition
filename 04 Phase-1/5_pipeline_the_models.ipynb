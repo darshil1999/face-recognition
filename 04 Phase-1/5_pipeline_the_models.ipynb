{
 "cells": [
  {
   "cell_type": "code",
   "execution_count": 1,
   "id": "13c2c079",
   "metadata": {},
   "outputs": [],
   "source": [
    "import numpy as np\n",
    "import pandas as pd\n",
    "import sklearn\n",
    "import pickle\n",
    "import cv2"
   ]
  },
  {
   "cell_type": "code",
   "execution_count": 2,
   "id": "5cca4471",
   "metadata": {},
   "outputs": [],
   "source": [
    "# Face detection\n",
    "\n",
    "face_detector_model = cv2.dnn.readNetFromCaffe('./models/deploy.prototxt.txt',\n",
    "                                               './models/res10_300x300_ssd_iter_140000.caffemodel')\n",
    "\n",
    "# Feature Extraction\n",
    "face_feature_model = cv2.dnn.readNetFromTorch('./models/openface.nn4.small2.v1.t7')\n",
    "\n",
    "# Face Recognition\n",
    "face_recognition_model = pickle.load(open('./models/face_person_identity.pkl',mode='rb'))\n",
    "\n",
    "# Emotion Recognition\n",
    "face_emotion_recognition_model = pickle.load(open('./models/face_person_emotion.pkl',mode='rb'))"
   ]
  },
  {
   "cell_type": "code",
   "execution_count": 3,
   "id": "ee0be3ef",
   "metadata": {},
   "outputs": [],
   "source": [
    "def pipline_model(path):\n",
    "    # Pipeline Model\n",
    "\n",
    "    img = cv2.imread(path)\n",
    "    image = img.copy()\n",
    "    h,w = image.shape[:2]\n",
    "\n",
    "    # Face Detection\n",
    "\n",
    "    img_blob = cv2.dnn.blobFromImage(img, 1, (300,300), (104,177,123), swapRB=False, crop=False)\n",
    "    face_detector_model.setInput(img_blob)\n",
    "    detection = face_detector_model.forward()\n",
    "\n",
    "    if len(detection) > 0:\n",
    "        for i, confidence in enumerate(detection[0,0,:,2]):\n",
    "            if confidence > 0.5:\n",
    "                box = detection[0,0,i,3:7] * np.array([w,h,w,h])\n",
    "                startx, starty, endx, endy = box.astype(int)\n",
    "\n",
    "                cv2.rectangle(image, (startx,starty), (endx, endy), (0,255,255))\n",
    "\n",
    "                # Feature Extraction\n",
    "                face_roi = img[starty:endy, startx:endx]\n",
    "                face_blob = cv2.dnn.blobFromImage(face_roi, 1/255,(96,96),(0,0,0),swapRB=True, crop=True)\n",
    "                face_feature_model.setInput(face_blob)\n",
    "                vectors = face_feature_model.forward()\n",
    "\n",
    "    # print(face_recognition_model)\n",
    "\n",
    "                # Predict with machine learning\n",
    "                face_name = face_recognition_model.predict(vectors)[0]\n",
    "                face_score = face_recognition_model.predict_proba(vectors).max()\n",
    "\n",
    "                # Emotion\n",
    "                face_emotion = face_emotion_recognition_model.predict(vectors)[0]\n",
    "                face_emotion_score = face_emotion_recognition_model.predict_proba(vectors).max()\n",
    "\n",
    "                print(face_name)\n",
    "                print(face_score)\n",
    "                print(face_emotion)\n",
    "                print(face_emotion_score)\n",
    "\n",
    "                text_face = f'{face_name} : {100*face_score:.2f}'\n",
    "                text_emotion = f'{face_emotion} : {100*face_emotion_score:.2f}'\n",
    "                cv2.putText(image, text_face,(startx, starty), cv2.FONT_HERSHEY_PLAIN,2,(255,255,255),2)\n",
    "                cv2.putText(image, text_emotion,(startx, endy), cv2.FONT_HERSHEY_PLAIN,2,(255,255,255),2)\n",
    "    return image"
   ]
  },
  {
   "cell_type": "code",
   "execution_count": 4,
   "id": "bab10d0d",
   "metadata": {},
   "outputs": [
    {
     "name": "stdout",
     "output_type": "stream",
     "text": [
      "Robert Downey Jr\n",
      "0.31775656989259005\n",
      "angry\n",
      "0.33361854115541334\n",
      "Angelina Jolie\n",
      "0.6082824563952925\n",
      "surprised\n",
      "0.27541006965484843\n"
     ]
    }
   ],
   "source": [
    "img1 = pipline_model('./data/angelina_bradd.jpeg')\n",
    "\n",
    "cv2.imshow('Pipline', img1)\n",
    "cv2.waitKey(0)\n",
    "cv2.destroyAllWindows()"
   ]
  },
  {
   "cell_type": "code",
   "execution_count": null,
   "id": "6a475683",
   "metadata": {},
   "outputs": [],
   "source": []
  }
 ],
 "metadata": {
  "kernelspec": {
   "display_name": "frs",
   "language": "python",
   "name": "frs"
  },
  "language_info": {
   "codemirror_mode": {
    "name": "ipython",
    "version": 3
   },
   "file_extension": ".py",
   "mimetype": "text/x-python",
   "name": "python",
   "nbconvert_exporter": "python",
   "pygments_lexer": "ipython3",
   "version": "3.11.2"
  }
 },
 "nbformat": 4,
 "nbformat_minor": 5
}
