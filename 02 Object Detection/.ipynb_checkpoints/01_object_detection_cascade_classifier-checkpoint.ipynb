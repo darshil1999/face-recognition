{
 "cells": [
  {
   "cell_type": "code",
   "execution_count": 2,
   "id": "d57c54b5",
   "metadata": {},
   "outputs": [],
   "source": [
    "import numpy as np\n",
    "import cv2"
   ]
  },
  {
   "cell_type": "markdown",
   "id": "ceab436f",
   "metadata": {},
   "source": [
    "# Face detection"
   ]
  },
  {
   "cell_type": "code",
   "execution_count": 3,
   "id": "11ad51c8",
   "metadata": {},
   "outputs": [],
   "source": [
    "img = cv2.imread('./images/0021.jpg')\n",
    "cv2.imshow('original image', img)\n",
    "cv2.waitKey(0)\n",
    "cv2.destroyAllWindows()"
   ]
  },
  {
   "cell_type": "markdown",
   "id": "47a48563",
   "metadata": {},
   "source": [
    "### load cascade classifier - frontal face"
   ]
  },
  {
   "cell_type": "code",
   "execution_count": 4,
   "id": "8f858e22",
   "metadata": {},
   "outputs": [],
   "source": [
    "face_cascade = cv2.CascadeClassifier('./cascade_classifier/haarcascade_frontalface_default.xml')"
   ]
  },
  {
   "cell_type": "code",
   "execution_count": 5,
   "id": "a39e132d",
   "metadata": {},
   "outputs": [],
   "source": [
    "# apply cascade classifier to image\n",
    "face, num_detection = face_cascade.detectMultiScale2(img)"
   ]
  },
  {
   "cell_type": "code",
   "execution_count": 6,
   "id": "8841ac45",
   "metadata": {},
   "outputs": [
    {
     "name": "stdout",
     "output_type": "stream",
     "text": [
      "[[114  40 196 196]]\n"
     ]
    }
   ],
   "source": [
    "print(face)"
   ]
  },
  {
   "cell_type": "code",
   "execution_count": 7,
   "id": "4269510a",
   "metadata": {},
   "outputs": [
    {
     "name": "stdout",
     "output_type": "stream",
     "text": [
      "[89]\n"
     ]
    }
   ],
   "source": [
    "print(num_detection)"
   ]
  },
  {
   "cell_type": "code",
   "execution_count": 8,
   "id": "cd4958b5",
   "metadata": {},
   "outputs": [],
   "source": [
    "pt1 = (114, 40)\n",
    "pt2 = (114+196, 40+196)\n",
    "\n",
    "# draw the rectangle\n",
    "\n",
    "cv2.rectangle(img, pt1, pt2,(0,255,0))\n",
    "\n",
    "cv2.imshow('Face detection', img)\n",
    "cv2.waitKey(0)\n",
    "cv2.destroyAllWindows()"
   ]
  },
  {
   "cell_type": "code",
   "execution_count": 9,
   "id": "95293eff",
   "metadata": {},
   "outputs": [],
   "source": [
    "# draw the circle\n",
    "cx = 114 + 196//2\n",
    "cy = 40 + 196//2\n",
    "r = 196 // 2\n",
    "\n",
    "cv2.circle(img,(cx,cy),r,(0,255,255),2)\n",
    "cv2.imshow('Face detection Circle', img)\n",
    "cv2.waitKey(0)\n",
    "cv2.destroyAllWindows()"
   ]
  },
  {
   "cell_type": "markdown",
   "id": "41dda09a",
   "metadata": {},
   "source": [
    "## Multiple Face Detection"
   ]
  },
  {
   "cell_type": "code",
   "execution_count": 10,
   "id": "f24e4408",
   "metadata": {},
   "outputs": [],
   "source": [
    "grp_img = cv2.imread('./images/friends.jpg')\n",
    "cv2.imshow('Friend detection', grp_img)\n",
    "cv2.waitKey(0)\n",
    "cv2.destroyAllWindows()"
   ]
  },
  {
   "cell_type": "code",
   "execution_count": 11,
   "id": "5ad5453f",
   "metadata": {},
   "outputs": [],
   "source": [
    "face_cascade = cv2.CascadeClassifier('./cascade_classifier/haarcascade_frontalface_default.xml')"
   ]
  },
  {
   "cell_type": "code",
   "execution_count": 16,
   "id": "8eaf6d7e",
   "metadata": {},
   "outputs": [
    {
     "name": "stdout",
     "output_type": "stream",
     "text": [
      "Faces  [[128 107  95  95]\n",
      " [256  90  95  95]\n",
      " [406  93  95  95]]\n",
      "Number of Detection  [95 73 55]\n"
     ]
    }
   ],
   "source": [
    "# step - 1 Apply cascade calssifier to an image\n",
    "\n",
    "faces, num_detection = face_cascade.detectMultiScale2(grp_img, minNeighbors=8)\n",
    "\n",
    "print(\"Faces \", faces)\n",
    "print(\"Number of Detection \", num_detection)"
   ]
  },
  {
   "cell_type": "code",
   "execution_count": 17,
   "id": "5bdf30fd",
   "metadata": {},
   "outputs": [],
   "source": [
    "# step 2 Run a loop\n",
    "for x,y,w,h, in faces:\n",
    "    cv2.rectangle(grp_img, (x,y),(x+w,y+h),(0,255,255),1)\n",
    "\n",
    "cv2.imshow('Detected faces', grp_img)\n",
    "cv2.waitKey(0)\n",
    "cv2.destroyAllWindows()"
   ]
  },
  {
   "cell_type": "markdown",
   "id": "adb051f8",
   "metadata": {},
   "source": [
    "## Face and Eye Detection"
   ]
  },
  {
   "cell_type": "code",
   "execution_count": 18,
   "id": "85e7bf4b",
   "metadata": {},
   "outputs": [],
   "source": [
    "img = cv2.imread('./images/friends.jpg')\n",
    "\n",
    "cv2.imshow('Original Image', img)\n",
    "cv2.waitKey(0)\n",
    "cv2.destroyAllWindows()"
   ]
  },
  {
   "cell_type": "code",
   "execution_count": 19,
   "id": "e5c08493",
   "metadata": {},
   "outputs": [],
   "source": [
    "face_cascade = cv2.CascadeClassifier('./cascade_classifier/haarcascade_frontalface_default.xml')\n",
    "eye_cascade = cv2.CascadeClassifier('./cascade_classifier/haarcascade_eye.xml')"
   ]
  },
  {
   "cell_type": "code",
   "execution_count": 22,
   "id": "68e19a30",
   "metadata": {},
   "outputs": [],
   "source": [
    "# step 1 = Face detection\n",
    "\n",
    "faces, num_detection = face_cascade.detectMultiScale2(img, minNeighbors=8)"
   ]
  },
  {
   "cell_type": "code",
   "execution_count": 23,
   "id": "f84fe0f4",
   "metadata": {},
   "outputs": [
    {
     "name": "stdout",
     "output_type": "stream",
     "text": [
      "[[128 107  96  96]\n",
      " [255  90  95  95]\n",
      " [407  92  95  95]]\n",
      "[104  84  71]\n"
     ]
    }
   ],
   "source": [
    "print(faces)\n",
    "print(num_detection)"
   ]
  },
  {
   "cell_type": "code",
   "execution_count": 25,
   "id": "ec829ef1",
   "metadata": {},
   "outputs": [],
   "source": [
    "for x,y,w,h in faces:\n",
    "    cv2.rectangle(img,(x,y),(x+w,y+h),(0,255,255))\n",
    "    \n",
    "    # step 2 = Eye Detection\n",
    "    \n",
    "    face_roi = img[y:y+h, x:x+h] # cropping the image\n",
    "    \n",
    "    # step 3 = apply cascade classifier for eye\n",
    "    eyes, num_detection_eye = eye_cascade.detectMultiScale2(face_roi)\n",
    "    for ex, ey, ew, eh in eyes:\n",
    "        cx = x + ex + ew//2\n",
    "        cy = y + ey + eh//2\n",
    "        r = eh//2\n",
    "        \n",
    "        cv2.circle(img, (cx,cy), r, (0,255,0))\n",
    "    \n",
    "# step = 3 face detection\n",
    "\n",
    "cv2.imshow('Detected Image', img)\n",
    "cv2.waitKey(0)\n",
    "cv2.destroyAllWindows()\n"
   ]
  },
  {
   "cell_type": "markdown",
   "id": "c1a3cb7c",
   "metadata": {},
   "source": [
    "## Face, eye and smile detection"
   ]
  },
  {
   "cell_type": "code",
   "execution_count": 28,
   "id": "0bf37256",
   "metadata": {},
   "outputs": [],
   "source": [
    "img = cv2.imread('./images/friends.jpg')\n",
    "\n",
    "cv2.imshow('Original Image', img)\n",
    "cv2.waitKey(0)\n",
    "cv2.destroyAllWindows()"
   ]
  },
  {
   "cell_type": "code",
   "execution_count": 30,
   "id": "fe1d1256",
   "metadata": {},
   "outputs": [],
   "source": [
    "# step 1 = face detection\n",
    "\n",
    "face_cascade = cv2.CascadeClassifier('./cascade_classifier/haarcascade_frontalface_default.xml')\n",
    "eye_cascade = cv2.CascadeClassifier('./cascade_classifier/haarcascade_eye.xml')\n",
    "smile_cascae = cv2.CascadeClassifier('./cascade_classifier/haarcascade_smile.xml')\n",
    "\n",
    "\n",
    "faces, num_detection = face_cascade.detectMultiScale2(img, minNeighbors=8)\n",
    "\n",
    "for x,y,w,h in faces:\n",
    "    face_roi = img[y:y+h, x:x+w].copy()\n",
    "    cv2.rectangle(img,(x,y),(x+w,y+h),(0,255,255))\n",
    "    \n",
    "    # step 2 = Eye Detection\n",
    "    eyes, num_detection_eye = eye_cascade.detectMultiScale2(face_roi)\n",
    "    \n",
    "    for ex, ey, ew, eh in eyes:\n",
    "        cx = x + ex + ew//2\n",
    "        cy = y + ey + eh//2\n",
    "        r = eh//2\n",
    "        \n",
    "        cv2.circle(img, (cx,cy), r, (0,255,0))\n",
    "        \n",
    "    # step 3 = smile detection\n",
    "    \n",
    "    smiles, num_detection_smile = smile_cascae.detectMultiScale2(face_roi)\n",
    "    \n",
    "    for sx, sy, sw, sh in smiles:\n",
    "        cv2.rectangle(img, (x+sx,y+sy), (x+sx+sw,y+sy+sh), (255,0,0))\n",
    "\n",
    "# step 4 = show the image\n",
    "cv2.imshow('Detected Image', img)\n",
    "cv2.waitKey(0)\n",
    "cv2.destroyAllWindows()"
   ]
  },
  {
   "cell_type": "code",
   "execution_count": null,
   "id": "8b9c5e42",
   "metadata": {},
   "outputs": [],
   "source": []
  }
 ],
 "metadata": {
  "kernelspec": {
   "display_name": "fmdenv",
   "language": "python",
   "name": "fmdenv"
  },
  "language_info": {
   "codemirror_mode": {
    "name": "ipython",
    "version": 3
   },
   "file_extension": ".py",
   "mimetype": "text/x-python",
   "name": "python",
   "nbconvert_exporter": "python",
   "pygments_lexer": "ipython3",
   "version": "3.10.7"
  }
 },
 "nbformat": 4,
 "nbformat_minor": 5
}
