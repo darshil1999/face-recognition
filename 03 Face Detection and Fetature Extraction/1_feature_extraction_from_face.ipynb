{
 "cells": [
  {
   "cell_type": "code",
   "execution_count": 1,
   "id": "4b4498d1",
   "metadata": {},
   "outputs": [
    {
     "name": "stdout",
     "output_type": "stream",
     "text": [
      "Collecting cmake\n",
      "  Using cached cmake-3.26.1-py2.py3-none-manylinux2014_x86_64.manylinux_2_17_x86_64.whl (24.0 MB)\n",
      "Installing collected packages: cmake\n",
      "Successfully installed cmake-3.26.1\n",
      "Collecting dlib\n",
      "  Downloading dlib-19.24.1.tar.gz (3.2 MB)\n",
      "\u001b[2K     \u001b[38;2;114;156;31m━━━━━━━━━━━━━━━━━━━━━━━━━━━━━━━━━━━━━━━━\u001b[0m \u001b[32m3.2/3.2 MB\u001b[0m \u001b[31m4.0 MB/s\u001b[0m eta \u001b[36m0:00:00\u001b[0mm eta \u001b[36m0:00:01\u001b[0m[36m0:00:01\u001b[0m\n",
      "\u001b[?25h  Preparing metadata (setup.py) ... \u001b[?25ldone\n",
      "\u001b[?25hBuilding wheels for collected packages: dlib\n",
      "  Building wheel for dlib (setup.py) ... \u001b[?25ldone\n",
      "\u001b[?25h  Created wheel for dlib: filename=dlib-19.24.1-cp311-cp311-linux_x86_64.whl size=3923414 sha256=4bb8de83623631ccad6f84813f29c22af1c382b05357ab4f86246de103eb956f\n",
      "  Stored in directory: /home/darksid/.cache/pip/wheels/48/b5/ea/4ddc47cec4c273d2ce6e99f3590e873b4447187fd02a332802\n",
      "Successfully built dlib\n",
      "Installing collected packages: dlib\n",
      "Successfully installed dlib-19.24.1\n",
      "Collecting imutils\n",
      "  Using cached imutils-0.5.4.tar.gz (17 kB)\n",
      "  Preparing metadata (setup.py) ... \u001b[?25ldone\n",
      "\u001b[?25hBuilding wheels for collected packages: imutils\n",
      "  Building wheel for imutils (setup.py) ... \u001b[?25ldone\n",
      "\u001b[?25h  Created wheel for imutils: filename=imutils-0.5.4-py3-none-any.whl size=25838 sha256=293082135a404ecad8ae6349c5baf751b9f98514f4c598c6bb387096910edff1\n",
      "  Stored in directory: /home/darksid/.cache/pip/wheels/31/d0/2c/87ce38f6052879e5b7b18f0f8b4a10ad2a9d210e908d449f16\n",
      "Successfully built imutils\n",
      "Installing collected packages: imutils\n",
      "Successfully installed imutils-0.5.4\n"
     ]
    }
   ],
   "source": [
    "# Installing needed libraries\n",
    "!pip3 install cmake\n",
    "!pip3 install dlib\n",
    "!pip3 install imutils"
   ]
  },
  {
   "cell_type": "code",
   "execution_count": 2,
   "id": "38d12244",
   "metadata": {},
   "outputs": [],
   "source": [
    "import numpy as np\n",
    "import pandas as pd\n",
    "import cv2\n",
    "import dlib\n",
    "from imutils import face_utils"
   ]
  },
  {
   "cell_type": "code",
   "execution_count": 3,
   "id": "047ee6d7",
   "metadata": {},
   "outputs": [],
   "source": [
    "img = cv2.imread('./images/girl.png')\n",
    "\n",
    "cv2.imshow('girl', img)\n",
    "cv2.waitKey(0)\n",
    "cv2.destroyAllWindows()"
   ]
  },
  {
   "cell_type": "code",
   "execution_count": 4,
   "id": "d4cbe0d8",
   "metadata": {},
   "outputs": [],
   "source": [
    "# shape_predictor\n",
    "shape_predictor = dlib.shape_predictor('./models/shape_predictor_68_face_landmarks.dat')\n",
    "\n",
    "# shaape descriptor\n",
    "shape_descriptor = dlib.face_recognition_model_v1('./models/dlib_face_recognition_resnet_model_v1.dat')\n"
   ]
  },
  {
   "cell_type": "code",
   "execution_count": 5,
   "id": "a6e2b486",
   "metadata": {},
   "outputs": [],
   "source": [
    "#  Step:1 face detection\n",
    "\n",
    "imag = img.copy()\n",
    "face_detectore = dlib.get_frontal_face_detector()\n",
    "\n",
    "faces = face_detectore(imag)\n",
    "faces\n",
    "\n",
    "for box in faces:\n",
    "#     print(box)\n",
    "    pt1 = box.left(), box.top()\n",
    "    pt2 = box.right(), box.bottom()\n",
    "    \n",
    "    face_shape = shape_predictor(imag, box)\n",
    "    face_shape_arr = face_utils.shape_to_np(face_shape)\n",
    "    \n",
    "    face_descriptor = shape_descriptor.compute_face_descriptor(imag,face_shape)\n",
    "#     print(face_shape_arr)\n",
    "    for point in face_shape_arr:\n",
    "        cv2.circle(imag, tuple(point), 3 , (0,255,255),-1)\n",
    "    \n",
    "    cv2.rectangle(imag, pt1,pt2, (0,255,255))\n",
    "    \n",
    "    \n",
    "cv2.imshow('Face detection',imag)\n",
    "cv2.waitKey(0)\n",
    "cv2.destroyAllWindows()"
   ]
  },
  {
   "cell_type": "code",
   "execution_count": 6,
   "id": "0fe195af",
   "metadata": {},
   "outputs": [
    {
     "data": {
      "text/plain": [
       "array([-1.22912213e-01,  1.26351953e-01,  8.77076909e-02, -1.03509061e-01,\n",
       "       -1.12980135e-01, -1.78537704e-02, -1.31933898e-01, -7.53638893e-02,\n",
       "        1.64522991e-01, -1.28530487e-01,  1.92640916e-01, -8.09670836e-02,\n",
       "       -1.95523769e-01, -2.84623615e-02, -6.06988817e-02,  2.59382337e-01,\n",
       "       -1.76003590e-01, -1.22276329e-01, -3.20792906e-02,  2.05416139e-02,\n",
       "        3.74297760e-02,  2.51714792e-02,  6.51995316e-02,  8.93107578e-02,\n",
       "       -1.03029013e-01, -4.03407305e-01, -9.61286873e-02, -7.29469061e-02,\n",
       "       -5.52001856e-02, -9.19215679e-02, -5.94939515e-02, -2.50439215e-02,\n",
       "       -1.90664873e-01, -5.54677956e-02,  3.30582410e-02,  1.41297787e-01,\n",
       "       -2.99518667e-02, -1.33840293e-01,  1.61558568e-01, -1.26257930e-02,\n",
       "       -2.66412973e-01,  4.55601588e-02,  6.07113540e-02,  2.36675903e-01,\n",
       "        1.89006224e-01,  3.15033235e-02,  4.95759398e-02, -1.75878108e-01,\n",
       "        1.78237543e-01, -1.31862834e-01,  4.58499268e-02,  9.38344300e-02,\n",
       "        4.29921821e-02,  4.45307270e-02, -2.68403441e-04, -7.82624334e-02,\n",
       "        7.09053650e-02,  2.04194829e-01, -1.73517063e-01, -5.65751232e-02,\n",
       "        1.22762546e-01, -6.14678040e-02,  1.66945271e-02, -1.17913753e-01,\n",
       "        2.44284824e-01,  7.89956748e-02, -1.07950762e-01, -2.38579124e-01,\n",
       "        1.27425671e-01, -1.39136806e-01, -4.98377346e-02,  3.80317718e-02,\n",
       "       -1.40565664e-01, -1.74379915e-01, -3.19862038e-01,  1.84531212e-02,\n",
       "        2.85738647e-01,  1.37397021e-01, -1.31725237e-01,  8.73280168e-02,\n",
       "       -4.91395369e-02, -2.42185732e-03,  1.54872620e-02,  2.14119360e-01,\n",
       "        2.24107150e-02,  5.57129011e-02, -5.91234565e-02, -1.53325303e-02,\n",
       "        2.27827296e-01, -5.95998168e-02,  4.44306023e-02,  2.22787216e-01,\n",
       "        2.08729692e-03,  3.98716554e-02, -2.42114952e-03, -6.87440438e-03,\n",
       "       -1.80852115e-01,  7.80848637e-02, -1.23843193e-01,  7.30215618e-03,\n",
       "       -5.11492938e-02,  3.13479751e-02,  1.30189862e-02,  1.11372054e-01,\n",
       "       -2.04942659e-01,  1.46883994e-01, -6.78011551e-02,  9.14752949e-03,\n",
       "        1.63435247e-02,  8.93976539e-03, -5.64449206e-02, -1.32546321e-01,\n",
       "        1.27748236e-01, -2.20445201e-01,  1.22949466e-01,  1.77667737e-01,\n",
       "        1.20744668e-01,  1.36364058e-01,  1.41978398e-01,  1.25993639e-01,\n",
       "        6.25331327e-03,  3.90893780e-02, -2.58205682e-01,  2.97453497e-02,\n",
       "        1.23885550e-01, -5.11774980e-02,  8.72768238e-02,  4.06905897e-02])"
      ]
     },
     "execution_count": 6,
     "metadata": {},
     "output_type": "execute_result"
    }
   ],
   "source": [
    "np.array(face_descriptor)"
   ]
  },
  {
   "cell_type": "code",
   "execution_count": 7,
   "id": "785bc2f1",
   "metadata": {},
   "outputs": [
    {
     "data": {
      "text/plain": [
       "128"
      ]
     },
     "execution_count": 7,
     "metadata": {},
     "output_type": "execute_result"
    }
   ],
   "source": [
    "len(np.array(face_descriptor))"
   ]
  },
  {
   "cell_type": "code",
   "execution_count": null,
   "id": "939fd1c1",
   "metadata": {},
   "outputs": [],
   "source": []
  }
 ],
 "metadata": {
  "kernelspec": {
   "display_name": "frs",
   "language": "python",
   "name": "frs"
  },
  "language_info": {
   "codemirror_mode": {
    "name": "ipython",
    "version": 3
   },
   "file_extension": ".py",
   "mimetype": "text/x-python",
   "name": "python",
   "nbconvert_exporter": "python",
   "pygments_lexer": "ipython3",
   "version": "3.11.2"
  }
 },
 "nbformat": 4,
 "nbformat_minor": 5
}
